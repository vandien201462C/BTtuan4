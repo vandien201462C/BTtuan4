{
  "nbformat": 4,
  "nbformat_minor": 0,
  "metadata": {
    "colab": {
      "provenance": [],
      "include_colab_link": true
    },
    "kernelspec": {
      "name": "python3",
      "display_name": "Python 3"
    },
    "language_info": {
      "name": "python"
    }
  },
  "cells": [
    {
      "cell_type": "markdown",
      "metadata": {
        "id": "view-in-github",
        "colab_type": "text"
      },
      "source": [
        "<a href=\"https://colab.research.google.com/github/vandien201462C/BTtuan4/blob/main/AI_Exercise_Fuzzy_BonNuoc.ipynb\" target=\"_parent\"><img src=\"https://colab.research.google.com/assets/colab-badge.svg\" alt=\"Open In Colab\"/></a>"
      ]
    },
    {
      "cell_type": "code",
      "execution_count": 1,
      "metadata": {
        "colab": {
          "base_uri": "https://localhost:8080/"
        },
        "id": "m8ZedHla1KzK",
        "outputId": "a30d855b-57f4-4783-a825-33c6bcc4c19f"
      },
      "outputs": [
        {
          "output_type": "stream",
          "name": "stdout",
          "text": [
            "Looking in indexes: https://pypi.org/simple, https://us-python.pkg.dev/colab-wheels/public/simple/\n",
            "Collecting scikit-fuzzy\n",
            "  Downloading scikit-fuzzy-0.4.2.tar.gz (993 kB)\n",
            "\u001b[2K     \u001b[90m━━━━━━━━━━━━━━━━━━━━━━━━━━━━━━━━━━━━━━\u001b[0m \u001b[32m994.0/994.0 KB\u001b[0m \u001b[31m12.7 MB/s\u001b[0m eta \u001b[36m0:00:00\u001b[0m\n",
            "\u001b[?25h  Preparing metadata (setup.py) ... \u001b[?25l\u001b[?25hdone\n",
            "Requirement already satisfied: numpy>=1.6.0 in /usr/local/lib/python3.8/dist-packages (from scikit-fuzzy) (1.22.4)\n",
            "Requirement already satisfied: scipy>=0.9.0 in /usr/local/lib/python3.8/dist-packages (from scikit-fuzzy) (1.7.3)\n",
            "Requirement already satisfied: networkx>=1.9.0 in /usr/local/lib/python3.8/dist-packages (from scikit-fuzzy) (3.0)\n",
            "Building wheels for collected packages: scikit-fuzzy\n",
            "  Building wheel for scikit-fuzzy (setup.py) ... \u001b[?25l\u001b[?25hdone\n",
            "  Created wheel for scikit-fuzzy: filename=scikit_fuzzy-0.4.2-py3-none-any.whl size=894088 sha256=a3bbbbe84f2ecf635e25d9efd04b6b043d5916d8b762a5a6b8efc54e091858ff\n",
            "  Stored in directory: /root/.cache/pip/wheels/2c/04/80/7eefb1a2de7d36aefd06432fab2a1486caf0a0596a7067391a\n",
            "Successfully built scikit-fuzzy\n",
            "Installing collected packages: scikit-fuzzy\n",
            "Successfully installed scikit-fuzzy-0.4.2\n"
          ]
        }
      ],
      "source": [
        "!pip install scikit-fuzzy   # thư viện fuzzy logic  ( logic mờ )"
      ]
    },
    {
      "cell_type": "code",
      "source": [
        "import numpy as np\n",
        "import skfuzzy as fuzz\n",
        "from skfuzzy import control as ctrl\n",
        "\n",
        "valve = ctrl.Antecedent(np.arange(0,101,1),'Valve') #đầu vào\n",
        "level = ctrl.Consequent(np.arange(0,31,1),'Level')  #đầu ra \n",
        "\n",
        "# Type\n",
        "valve['close'] = fuzz.trimf(valve.universe,[0,0,50])     #0 - 100%\n",
        "valve['average'] = fuzz.trimf(valve.universe,[0,50,100]) \n",
        "valve['open'] = fuzz.trimf(valve.universe,[50,100,100]) \n",
        "\n",
        "level['low'] = fuzz.trimf(level.universe,[0,0,15])    #0 - 30 cm\n",
        "level['normal'] = fuzz.trimf(level.universe,[0,15,30]) \n",
        "level['high'] = fuzz.trimf(level.universe,[15,30,30]) \n",
        "\n",
        "#valve.view()\n",
        "\n",
        "rule1=ctrl.Rule(valve['close'] , level['low'])\n",
        "rule2=ctrl.Rule(valve['average'] , level['normal'])\n",
        "rule3=ctrl.Rule(valve['open'] , level['high'])\n",
        "\n",
        "#rule1.view()\n",
        "\n",
        "level_ctrl = ctrl.ControlSystem([rule1, rule2, rule3])\n",
        "leveling = ctrl.ControlSystemSimulation(level_ctrl)\n",
        "leveling.input['Valve'] = 90     # 0 - 100%\n",
        "leveling.compute()\n",
        "print(leveling.output['Level'])\n",
        "level.view(sim = leveling)"
      ],
      "metadata": {
        "colab": {
          "base_uri": "https://localhost:8080/",
          "height": 298
        },
        "id": "HZo5yd8n1dAg",
        "outputId": "57674cdc-76a0-4283-f9a9-6201dc30da4c"
      },
      "execution_count": 5,
      "outputs": [
        {
          "output_type": "stream",
          "name": "stdout",
          "text": [
            "20.17647058823529\n"
          ]
        },
        {
          "output_type": "display_data",
          "data": {
            "text/plain": [
              "<Figure size 432x288 with 1 Axes>"
            ],
            "image/png": "[encoded data removed]"
          },
          "metadata": {
            "needs_background": "light"
          }
        }
      ]
    }
  ]
}